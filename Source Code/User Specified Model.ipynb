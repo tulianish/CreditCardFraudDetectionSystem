{
 "cells": [
  {
   "cell_type": "markdown",
   "metadata": {},
   "source": [
    "### Imports"
   ]
  },
  {
   "cell_type": "code",
   "execution_count": 107,
   "metadata": {},
   "outputs": [],
   "source": [
    "import csv\n",
    "from sklearn.covariance import EllipticEnvelope\n",
    "import numpy as np\n",
    "import re\n",
    "from sklearn import svm\n",
    "import copy"
   ]
  },
  {
   "cell_type": "markdown",
   "metadata": {},
   "source": [
    "### Read dataset"
   ]
  },
  {
   "cell_type": "code",
   "execution_count": 108,
   "metadata": {
    "collapsed": true
   },
   "outputs": [],
   "source": [
    "dantin_txns = list()\n",
    "\n",
    "for row in csv.reader(open(\"/Users/root02/Downloads/dantin_txns.csv\")):\n",
    "    dantin_txns.append([row[0].replace(\",\",\"\"), float(row[1]), row[2]])"
   ]
  },
  {
   "cell_type": "code",
   "execution_count": 109,
   "metadata": {},
   "outputs": [],
   "source": [
    "cp_tr = copy.deepcopy(dantin_txns)"
   ]
  },
  {
   "cell_type": "markdown",
   "metadata": {},
   "source": [
    "### Perform preprocessing"
   ]
  },
  {
   "cell_type": "code",
   "execution_count": 110,
   "metadata": {},
   "outputs": [],
   "source": [
    "for idx, row in enumerate(dantin_txns):\n",
    "    merchant = row[0]\n",
    "    merchant = merchant.replace(\"--\", \"\")\n",
    "    merchant = merchant.replace(\"//\", \" \")"
   ]
  },
  {
   "cell_type": "markdown",
   "metadata": {},
   "source": [
    "### Convert categorical attributes to numerical values"
   ]
  },
  {
   "cell_type": "code",
   "execution_count": 111,
   "metadata": {
    "collapsed": true
   },
   "outputs": [],
   "source": [
    "categorical = {\"0\":{},\"-1\":{}}"
   ]
  },
  {
   "cell_type": "code",
   "execution_count": 112,
   "metadata": {
    "collapsed": true
   },
   "outputs": [],
   "source": [
    "merchants = list()\n",
    "locations = list()\n",
    "\n",
    "for idx, row in enumerate(dantin_txns):\n",
    "    dantin_txns[idx][0] = row[0].replace(\",\",\"\")\n",
    "    merchants.append(row[0])\n",
    "    locations.append(row[-1])"
   ]
  },
  {
   "cell_type": "code",
   "execution_count": 113,
   "metadata": {
    "collapsed": true
   },
   "outputs": [],
   "source": [
    "merchants = set(merchants)\n",
    "locations = set(locations)"
   ]
  },
  {
   "cell_type": "code",
   "execution_count": 114,
   "metadata": {
    "collapsed": true
   },
   "outputs": [],
   "source": [
    "replace_c = {\"0\":{},\"-1\":{}}"
   ]
  },
  {
   "cell_type": "code",
   "execution_count": 115,
   "metadata": {
    "collapsed": true
   },
   "outputs": [],
   "source": [
    "for idx, merch in enumerate(merchants):\n",
    "    replace_c[\"0\"][merch] = idx\n",
    "    \n",
    "for idx, loc in enumerate(locations):\n",
    "    replace_c[\"-1\"][loc] = idx"
   ]
  },
  {
   "cell_type": "code",
   "execution_count": 116,
   "metadata": {
    "collapsed": true
   },
   "outputs": [],
   "source": [
    "for idx, row in enumerate(dantin_txns):\n",
    "    dantin_txns[idx][0] = replace_c[\"0\"][row[0]]\n",
    "    dantin_txns[idx][-1] = replace_c[\"-1\"][row[-1]]"
   ]
  },
  {
   "cell_type": "markdown",
   "metadata": {},
   "source": [
    "### Convert to numpy"
   ]
  },
  {
   "cell_type": "code",
   "execution_count": 117,
   "metadata": {
    "collapsed": true
   },
   "outputs": [],
   "source": [
    "dantin_txns = np.asarray(dantin_txns)"
   ]
  },
  {
   "cell_type": "markdown",
   "metadata": {},
   "source": [
    "### Perform novelty detection using EllipticEnvelope"
   ]
  },
  {
   "cell_type": "code",
   "execution_count": 238,
   "metadata": {},
   "outputs": [
    {
     "data": {
      "text/plain": [
       "EllipticEnvelope(assume_centered=False, contamination=0.1, random_state=None,\n",
       "         store_precision=True, support_fraction=None)"
      ]
     },
     "execution_count": 238,
     "metadata": {},
     "output_type": "execute_result"
    }
   ],
   "source": [
    "clf = EllipticEnvelope()\n",
    "clf.fit(dantin_txns)"
   ]
  },
  {
   "cell_type": "code",
   "execution_count": 239,
   "metadata": {},
   "outputs": [],
   "source": [
    "predx = clf.predict(dantin_txns)"
   ]
  },
  {
   "cell_type": "code",
   "execution_count": 240,
   "metadata": {},
   "outputs": [
    {
     "name": "stdout",
     "output_type": "stream",
     "text": [
      "['traviangamesfgbad', 1659.73, 'munich'] -1\n",
      "['cdkeys.com', 3545.55, 'N/A'] -1\n",
      "['paytm', 1337.0, 'noida'] -1\n",
      "['to transfer-inb imps/pa/', 2100.0, 'N/A'] -1\n",
      "['atm wdl-atm cash sbi mcleodganj', 1400.0, 'N/A'] -1\n",
      "['by debit card-othpos', 1919.0, 'N/A'] -1\n",
      "['by debit card-othpos', 5517.0, 'N/A'] -1\n",
      "['by debit card-othposzolo', 9000.0, 'bangalore'] -1\n",
      "['bill_razecom', 1002.0, 'N/A'] -1\n",
      "['by debit card-othpo', 2293.0, 'bangalore'] -1\n",
      "['trent limited', 3292.0, 'bangalore'] -1\n",
      "['zolostays property', 10961.0, 'bangalore'] -1\n",
      "['future retail ltd', 1097.0, 'bangalore'] -1\n"
     ]
    }
   ],
   "source": [
    "for idx, row in enumerate(cp_tr):\n",
    "    if predx[idx] == -1:\n",
    "        print (row, predx[idx])"
   ]
  }
 ],
 "metadata": {
  "kernelspec": {
   "display_name": "Python 3",
   "language": "python",
   "name": "python3"
  },
  "language_info": {
   "codemirror_mode": {
    "name": "ipython",
    "version": 3
   },
   "file_extension": ".py",
   "mimetype": "text/x-python",
   "name": "python",
   "nbconvert_exporter": "python",
   "pygments_lexer": "ipython3",
   "version": "3.6.1"
  }
 },
 "nbformat": 4,
 "nbformat_minor": 2
}
