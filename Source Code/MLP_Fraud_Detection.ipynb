{
 "cells": [
  {
   "cell_type": "markdown",
   "metadata": {},
   "source": [
    "### Imports"
   ]
  },
  {
   "cell_type": "code",
   "execution_count": 20,
   "metadata": {
    "collapsed": true
   },
   "outputs": [],
   "source": [
    "import csv\n",
    "import numpy as np\n",
    "import mxnet as mx\n",
    "import random\n",
    "import sys\n",
    "import pickle\n",
    "import matplotlib as mpl\n",
    "mpl.use('TkAgg')\n",
    "from matplotlib import pyplot as plt\n",
    "from mxnet import gluon, nd, autograd"
   ]
  },
  {
   "cell_type": "markdown",
   "metadata": {},
   "source": [
    "### Create CSV Reader Object to process data"
   ]
  },
  {
   "cell_type": "code",
   "execution_count": 22,
   "metadata": {
    "collapsed": true
   },
   "outputs": [],
   "source": [
    "csvreader = csv.reader(open(\"/Users/root02/Downloads/creditcard.csv\"))"
   ]
  },
  {
   "cell_type": "markdown",
   "metadata": {},
   "source": [
    "### Initialize variables"
   ]
  },
  {
   "cell_type": "code",
   "execution_count": 23,
   "metadata": {
    "collapsed": true
   },
   "outputs": [],
   "source": [
    "input_entries = list()"
   ]
  },
  {
   "cell_type": "markdown",
   "metadata": {},
   "source": [
    "### Read from CSV and clean up data"
   ]
  },
  {
   "cell_type": "code",
   "execution_count": 24,
   "metadata": {
    "collapsed": true
   },
   "outputs": [],
   "source": [
    "i = 0\n",
    "for row in csvreader:\n",
    "    if i == 0:\n",
    "        i += 1\n",
    "        continue\n",
    "    for idx, i in enumerate(row):\n",
    "        if idx < len(row)-1:\n",
    "            row[idx] = float(i)\n",
    "        else:\n",
    "            row[idx] = int(i)\n",
    "    input_entries.append(row[1:])"
   ]
  },
  {
   "cell_type": "code",
   "execution_count": 9,
   "metadata": {
    "collapsed": true
   },
   "outputs": [],
   "source": [
    "X = input_entries[1:]"
   ]
  },
  {
   "cell_type": "code",
   "execution_count": 10,
   "metadata": {
    "collapsed": true
   },
   "outputs": [],
   "source": [
    "random.shuffle(X)"
   ]
  },
  {
   "cell_type": "markdown",
   "metadata": {},
   "source": [
    "### Shorten the size of the data set"
   ]
  },
  {
   "cell_type": "code",
   "execution_count": 11,
   "metadata": {
    "collapsed": true
   },
   "outputs": [],
   "source": [
    "X_train = list()\n",
    "X_test = list()\n",
    "\n",
    "for i in X:\n",
    "    if i[-1] == 1:\n",
    "        X_train.append(i)\n",
    "        X.remove(i)\n",
    "        \n",
    "X_test = np.asarray(X_train[452:]+X[100000:101000])\n",
    "X_train = np.asarray(X_train[:452]+X[20000:30000])"
   ]
  },
  {
   "cell_type": "markdown",
   "metadata": {},
   "source": [
    "### Define structure of neural network"
   ]
  },
  {
   "cell_type": "code",
   "execution_count": 8,
   "metadata": {
    "collapsed": true
   },
   "outputs": [],
   "source": [
    "net = gluon.nn.Sequential()\n",
    "\n",
    "with net.name_scope():\n",
    "    net.add(gluon.nn.Dense(64))\n",
    "    net.add(gluon.nn.BatchNorm())\n",
    "    net.add(gluon.nn.Activation(activation=\"relu\"))\n",
    "    net.add(gluon.nn.Dense(64))\n",
    "    net.add(gluon.nn.BatchNorm())\n",
    "    net.add(gluon.nn.Activation(activation=\"relu\"))\n",
    "    net.add(gluon.nn.Dense(1, activation=\"sigmoid\"))"
   ]
  },
  {
   "cell_type": "markdown",
   "metadata": {},
   "source": [
    "### Define Loss Function, Trainer, & Initialize NN Parameters"
   ]
  },
  {
   "cell_type": "code",
   "execution_count": 9,
   "metadata": {
    "collapsed": true
   },
   "outputs": [],
   "source": [
    "loss = gluon.loss.SigmoidBinaryCrossEntropyLoss(from_sigmoid=True)\n",
    "net.collect_params().initialize(mx.init.Normal(), ctx=mx.cpu())\n",
    "trainer = gluon.Trainer(net.collect_params(), optimizer=\"adagrad\")"
   ]
  },
  {
   "cell_type": "code",
   "execution_count": 12,
   "metadata": {
    "collapsed": true
   },
   "outputs": [],
   "source": [
    "batch_size = 64"
   ]
  },
  {
   "cell_type": "markdown",
   "metadata": {},
   "source": [
    "### Define Epoch Function"
   ]
  },
  {
   "cell_type": "code",
   "execution_count": 14,
   "metadata": {
    "collapsed": true
   },
   "outputs": [],
   "source": [
    "def epoch():\n",
    "    for idx, i in enumerate(X_train):\n",
    "        X_batch = nd.array(X_train[idx:idx+batch_size, :-1])\n",
    "        Y_batch = nd.array(X_train[idx:idx+batch_size, -1:])\n",
    "        idx += batch_size\n",
    "        with autograd.record():\n",
    "            out = net(X_batch)\n",
    "            l2 = loss(out, Y_batch)\n",
    "        l2.backward()\n",
    "        trainer.step(X_batch.shape[0])\n",
    "        sys.stdout.write (\"\\r\"+str(idx/len(X_train) * 100)[:10]+\" percent done\")\n",
    "        sys.stdout.flush()"
   ]
  },
  {
   "cell_type": "markdown",
   "metadata": {},
   "source": [
    "### Define Accuracy Evaluation"
   ]
  },
  {
   "cell_type": "code",
   "execution_count": 15,
   "metadata": {
    "collapsed": true
   },
   "outputs": [],
   "source": [
    "def eval_acc(data, threshold=0.5, batch_size=64, train_acc=False):\n",
    "    acc = mx.metric.Accuracy()\n",
    "    for idx, i in enumerate(data):\n",
    "        X_batch = nd.array(data[idx:idx+batch_size, :-1])\n",
    "        Y_batch = nd.array(data[idx:idx+batch_size, -1:])\n",
    "        idx += batch_size\n",
    "        out = net(X_batch)\n",
    "        preds = out > threshold\n",
    "        acc.update(preds=preds,labels=Y_batch)\n",
    "    return acc.get()[-1]"
   ]
  },
  {
   "cell_type": "markdown",
   "metadata": {},
   "source": [
    "### Training Loop"
   ]
  },
  {
   "cell_type": "code",
   "execution_count": 16,
   "metadata": {},
   "outputs": [
    {
     "name": "stdout",
     "output_type": "stream",
     "text": [
      "100.602755 percent done\n",
      "Accuracy 0.959646849959\n",
      "Epoch 0 : /Training (0, 0, 10000, 452) /Test (0, 0, 1000, 40)\n",
      "100.602755 percent done\n",
      "Accuracy 0.936135502135\n",
      "Epoch 1 : /Training (8, 253, 9747, 444) /Test (0, 26, 974, 40)\n",
      "100.602755 percent done\n",
      "Accuracy 0.894030996593\n",
      "Epoch 2 : /Training (197, 866, 9134, 255) /Test (18, 82, 918, 22)\n",
      "100.602755 percent done\n",
      "Accuracy 0.920857624394\n",
      "Epoch 3 : /Training (149, 543, 9457, 303) /Test (14, 57, 943, 26)\n",
      "100.602755 percent done\n",
      "Accuracy 0.903730927019\n",
      "Epoch 4 : /Training (216, 784, 9216, 236) /Test (22, 76, 924, 18)\n",
      "100.602755 percent done\n",
      "Accuracy 0.978694340483\n",
      "Epoch 5 : /Training (218, 4, 9996, 234) /Test (18, 0, 1000, 22)\n",
      "100.602755 percent done\n",
      "Accuracy 0.964476572621\n",
      "Epoch 6 : /Training (352, 278, 9722, 100) /Test (34, 29, 971, 6)\n",
      "100.602755 percent done\n",
      "Accuracy 0.990713917278\n",
      "Epoch 7 : /Training (359, 9, 9991, 93) /Test (35, 0, 1000, 5)\n",
      "100.602755 percent done\n",
      "Accuracy 0.892350115158\n",
      "Epoch 8 : /Training (378, 1053, 8947, 74) /Test (37, 95, 905, 3)\n",
      "100.602755 percent done\n",
      "Accuracy 0.94906524399\n",
      "Epoch 9 : /Training (373, 457, 9543, 79) /Test (36, 45, 955, 4)\n"
     ]
    }
   ],
   "source": [
    "for i in range(10):\n",
    "    epoch()\n",
    "    print (\"\\nAccuracy\", eval_acc(X_train))\n",
    "    print(\"Epoch\", i, \":\", \"/Training\", return_confusion_matrix(), \"/Test\", return_confusion_matrix(X_test, threshold=0.5, true_val=40))"
   ]
  },
  {
   "cell_type": "markdown",
   "metadata": {},
   "source": [
    "### Define Confusion Matrix Generating Function"
   ]
  },
  {
   "cell_type": "code",
   "execution_count": 16,
   "metadata": {},
   "outputs": [],
   "source": [
    "def return_confusion_matrix(dataset=X_train, threshold=0.5, true_val=452):\n",
    "    tp, fn = 0, 0\n",
    "    X_2 = nd.array(dataset[:true_val, :-1])\n",
    "    Y_2 = nd.array(dataset[:true_val, -1:])\n",
    "    out = net(X_2)\n",
    "    preds = out > threshold\n",
    "    tp = np.count_nonzero((preds == Y_2).asnumpy())\n",
    "    fn = true_val - tp\n",
    "    \n",
    "    fp, tn = 0, 0\n",
    "    X_3 = nd.array(dataset[true_val:, :-1])\n",
    "    Y_3 = nd.array(dataset[true_val:, -1:])\n",
    "    out = net(X_3)\n",
    "    preds = out > threshold\n",
    "    tn = np.count_nonzero((preds == Y_3).asnumpy())\n",
    "    fp = X_3.shape[0] - tn\n",
    "    return tp, fp, tn, fn"
   ]
  },
  {
   "cell_type": "markdown",
   "metadata": {},
   "source": [
    "### Calculate TPR & FPR"
   ]
  },
  {
   "cell_type": "code",
   "execution_count": 17,
   "metadata": {
    "collapsed": true
   },
   "outputs": [],
   "source": [
    "def return_tpfr(tp, fp, tn, fn):\n",
    "    return tp/(tp+fn), fp/(tn+fp)"
   ]
  },
  {
   "cell_type": "markdown",
   "metadata": {},
   "source": [
    "### Model Performance Evaluation"
   ]
  },
  {
   "cell_type": "code",
   "execution_count": 18,
   "metadata": {},
   "outputs": [],
   "source": [
    "a, b, c, d = return_confusion_matrix(X_train, threshold=0.5, true_val=452)"
   ]
  },
  {
   "cell_type": "code",
   "execution_count": 19,
   "metadata": {},
   "outputs": [
    {
     "data": {
      "text/plain": [
       "(0.8296460176991151, 0.0473)"
      ]
     },
     "execution_count": 19,
     "metadata": {},
     "output_type": "execute_result"
    }
   ],
   "source": [
    "return_tpfr(a, b, c, d)"
   ]
  },
  {
   "cell_type": "markdown",
   "metadata": {},
   "source": [
    "### Save model and parameters"
   ]
  },
  {
   "cell_type": "code",
   "execution_count": 23,
   "metadata": {
    "collapsed": true
   },
   "outputs": [],
   "source": [
    "pickle.dump(net, open(\"/Users/root02/Desktop/model_ccfraud1.Sequential\", \"wb\"))"
   ]
  },
  {
   "cell_type": "code",
   "execution_count": 22,
   "metadata": {
    "collapsed": true
   },
   "outputs": [],
   "source": [
    "net.save_params(\"/Users/root02/Desktop/general_classifier1.params\")"
   ]
  },
  {
   "cell_type": "markdown",
   "metadata": {},
   "source": [
    "### Construct ROC Curve"
   ]
  },
  {
   "cell_type": "markdown",
   "metadata": {},
   "source": [
    "#### Choose a range of threshold values"
   ]
  },
  {
   "cell_type": "code",
   "execution_count": 134,
   "metadata": {
    "collapsed": true
   },
   "outputs": [],
   "source": [
    "threshold_values = list()\n",
    "\n",
    "start = 1\n",
    "while start >= 0:\n",
    "    threshold_values.append(start)\n",
    "    start -= 0.0001"
   ]
  },
  {
   "cell_type": "code",
   "execution_count": 135,
   "metadata": {
    "scrolled": true
   },
   "outputs": [
    {
     "data": {
      "text/plain": [
       "array([  1.12834678e+00,   5.69223257e-01,   5.08629436e-01,\n",
       "         2.46508449e+00,   3.25329455e-01,   4.04871267e-01,\n",
       "        -7.99382737e-02,   9.65915899e-02,   3.33517105e-01,\n",
       "         4.75470318e-01,   1.91523950e+00,  -2.28336558e+00,\n",
       "         1.00608604e+00,   2.09541372e+00,  -6.56948480e-01,\n",
       "         5.91927586e-01,   8.17482439e-02,   2.12893015e-01,\n",
       "        -1.15054523e+00,  -2.34467328e-01,  -8.71505034e-02,\n",
       "        -7.05947797e-02,  -6.65994216e-02,  -3.81225584e-01,\n",
       "         4.62689187e-01,   3.16093003e-02,  -3.70014884e-02,\n",
       "        -4.22349391e-03,   1.00300000e+01,   0.00000000e+00])"
      ]
     },
     "execution_count": 135,
     "metadata": {},
     "output_type": "execute_result"
    }
   ],
   "source": [
    "X_train[5001]"
   ]
  },
  {
   "cell_type": "markdown",
   "metadata": {},
   "source": [
    "#### Compute TPR and FPR for each value"
   ]
  },
  {
   "cell_type": "code",
   "execution_count": 136,
   "metadata": {
    "collapsed": true
   },
   "outputs": [],
   "source": [
    "tpr, fpr = list(), list()\n",
    "\n",
    "for values in threshold_values:\n",
    "    t1, t2, t3, t4 = return_confusion_matrix(X_test, threshold=values, true_val=40)\n",
    "    _tpr, _fpr = return_tpfr(t1, t2, t3, t4)\n",
    "    tpr.append(_tpr)\n",
    "    fpr.append(_fpr)"
   ]
  },
  {
   "cell_type": "code",
   "execution_count": 137,
   "metadata": {
    "scrolled": true
   },
   "outputs": [
    {
     "data": {
      "text/plain": [
       "[<matplotlib.lines.Line2D at 0x125c8f2e8>,\n",
       " <matplotlib.lines.Line2D at 0x125dc6f98>]"
      ]
     },
     "execution_count": 137,
     "metadata": {},
     "output_type": "execute_result"
    }
   ],
   "source": [
    "plt.plot(threshold_values, threshold_values, fpr, tpr)"
   ]
  },
  {
   "cell_type": "code",
   "execution_count": 138,
   "metadata": {
    "collapsed": true
   },
   "outputs": [],
   "source": [
    "plt.savefig(open(\"/Users/root02/Desktop/comparison.png\", \"wb\"))"
   ]
  }
 ],
 "metadata": {
  "kernelspec": {
   "display_name": "Python 3",
   "language": "python",
   "name": "python3"
  },
  "language_info": {
   "codemirror_mode": {
    "name": "ipython",
    "version": 3
   },
   "file_extension": ".py",
   "mimetype": "text/x-python",
   "name": "python",
   "nbconvert_exporter": "python",
   "pygments_lexer": "ipython3",
   "version": "3.6.1"
  }
 },
 "nbformat": 4,
 "nbformat_minor": 2
}
